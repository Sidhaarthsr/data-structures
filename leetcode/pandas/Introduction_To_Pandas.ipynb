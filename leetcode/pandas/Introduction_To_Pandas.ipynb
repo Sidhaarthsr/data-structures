{
 "cells": [
  {
   "cell_type": "markdown",
   "metadata": {},
   "source": [
    "2877. Create a DataFrame from List\n",
    "\n",
    "Write a solution to create a DataFrame from a 2D list called student_data. This 2D list contains the IDs and ages of some students.\n",
    "\n",
    "The DataFrame should have two columns, student_id and age, and be in the same order as the original 2D list.\n",
    "\n",
    "The result format is in the following example.\n",
    "\n",
    " \n",
    "\n",
    "Example 1:\n",
    "\n",
    "Input:\n",
    "student_data:\n",
    "[\n",
    "  [1, 15],\n",
    "  [2, 11],\n",
    "  [3, 11],\n",
    "  [4, 20]\n",
    "]\n",
    "Output:\n",
    "+------------+-----+\n",
    "| student_id | age |\n",
    "+------------+-----+\n",
    "| 1          | 15  |\n",
    "| 2          | 11  |\n",
    "| 3          | 11  |\n",
    "| 4          | 20  |\n",
    "+------------+-----+\n",
    "Explanation:\n",
    "A DataFrame was created on top of student_data, with two columns named student_id and age."
   ]
  },
  {
   "cell_type": "markdown",
   "metadata": {},
   "source": [
    "import pandas as pd\n",
    "\n",
    "def selectData(students: pd.DataFrame) -> pd.DataFrame:"
   ]
  },
  {
   "cell_type": "markdown",
   "metadata": {},
   "source": []
  },
  {
   "cell_type": "code",
   "execution_count": null,
   "metadata": {},
   "outputs": [],
   "source": [
    "import pandas as pd\n",
    "\n",
    "def selectData(students: pd.DataFrame) -> pd.DataFrame:\n",
    "    students.loc[students[\"student_id\"]==101, []]\n",
    "    students.dropna"
   ]
  },
  {
   "cell_type": "code",
   "execution_count": 5,
   "metadata": {},
   "outputs": [],
   "source": [
    "from typing import List\n",
    "import pandas as pd\n",
    "\n",
    "def createDataframe(student_data: List[List[int]]) -> pd.DataFrame:\n",
    "    return pd.DataFrame(student_data, columns=[\"student_id\", \"age\"]);"
   ]
  }
 ],
 "metadata": {
  "kernelspec": {
   "display_name": "Python 3",
   "language": "python",
   "name": "python3"
  },
  "language_info": {
   "codemirror_mode": {
    "name": "ipython",
    "version": 3
   },
   "file_extension": ".py",
   "mimetype": "text/x-python",
   "name": "python",
   "nbconvert_exporter": "python",
   "pygments_lexer": "ipython3",
   "version": "3.12.1"
  }
 },
 "nbformat": 4,
 "nbformat_minor": 2
}
